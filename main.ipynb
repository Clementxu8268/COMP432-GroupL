{
 "cells": [
  {
   "cell_type": "code",
   "execution_count": 1,
   "id": "f11d5a80-df2b-4899-8c02-6a568997dcec",
   "metadata": {},
   "outputs": [
    {
     "name": "stdout",
     "output_type": "stream",
     "text": [
      "Initialized empty Git repository in /Users/markxu/Desktop/github-repo/COMP432/project/.git/\n",
      "On branch main\n",
      "\n",
      "No commits yet\n",
      "\n",
      "Untracked files:\n",
      "  (use \"git add <file>...\" to include in what will be committed)\n",
      "\t\u001b[31m.ipynb_checkpoints/\u001b[m\n",
      "\t\u001b[31mmain.ipynb\u001b[m\n",
      "\n",
      "nothing added to commit but untracked files present (use \"git add\" to track)\n",
      "[main (root-commit) cd10836] Initial commit\n",
      " 2 files changed, 12 insertions(+)\n",
      " create mode 100644 .ipynb_checkpoints/main-checkpoint.ipynb\n",
      " create mode 100644 main.ipynb\n",
      "remote: Invalid username or password.\n",
      "fatal: Authentication failed for 'https://github.com/Clementxu8268/COMP432_Project_Group_L.git/'\n"
     ]
    }
   ],
   "source": [
    "!git init\n",
    "\n",
    "!git config user.name \"Clementxu8268\"\n",
    "!git config user.email \"kxu8268@gmail.com\"\n",
    "\n",
    "!git remote add origin git@github.com:Clementxu8268/COMP432_Project_Group_L.git\n",
    "\n",
    "!git status\n",
    "\n",
    "!git add .\n",
    "!git commit -m \"Initial commit\"\n",
    "\n",
    "# First-time push to set the upstream branch\n",
    "!git push -u origin main"
   ]
  },
  {
   "cell_type": "code",
   "execution_count": null,
   "id": "78f3ae36-85bb-43f1-88a3-f22324cbe312",
   "metadata": {},
   "outputs": [],
   "source": []
  }
 ],
 "metadata": {
  "kernelspec": {
   "display_name": "Python 3 (ipykernel)",
   "language": "python",
   "name": "python3"
  },
  "language_info": {
   "codemirror_mode": {
    "name": "ipython",
    "version": 3
   },
   "file_extension": ".py",
   "mimetype": "text/x-python",
   "name": "python",
   "nbconvert_exporter": "python",
   "pygments_lexer": "ipython3",
   "version": "3.12.2"
  }
 },
 "nbformat": 4,
 "nbformat_minor": 5
}
