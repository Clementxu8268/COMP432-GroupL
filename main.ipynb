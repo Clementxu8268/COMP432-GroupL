{
 "cells": [
  {
   "cell_type": "code",
   "execution_count": null,
   "id": "f11d5a80-df2b-4899-8c02-6a568997dcec",
   "metadata": {},
   "outputs": [
    {
     "name": "stdout",
     "output_type": "stream",
     "text": [
      "Reinitialized existing Git repository in /Users/markxu/Desktop/github-repo/COMP432/project/.git/\n",
      "error: remote origin already exists.\n",
      "On branch main\n",
      "Changes not staged for commit:\n",
      "  (use \"git add <file>...\" to update what will be committed)\n",
      "  (use \"git restore <file>...\" to discard changes in working directory)\n",
      "\t\u001b[31mmodified:   main.ipynb\u001b[m\n",
      "\n",
      "no changes added to commit (use \"git add\" and/or \"git commit -a\")\n",
      "[main 6a6dc80] Initial commit\n",
      " 1 file changed, 76 insertions(+), 2 deletions(-)\n",
      "Username for 'https://github.com': "
     ]
    }
   ],
   "source": [
    "!git init\n",
    "\n",
    "!git config user.name \"Clementxu8268\"\n",
    "!git config user.email \"kxu8268@gmail.com\"\n",
    "\n",
    "!git remote add origin git@github.com:Clementxu8268/COMP432_Project_Group_L.git\n",
    "\n",
    "!git status\n",
    "\n",
    "!git add .\n",
    "!git commit -m \"Initial commit\"\n",
    "\n",
    "# First-time push to set the upstream branch\n",
    "!git push -u origin main"
   ]
  },
  {
   "cell_type": "code",
   "execution_count": null,
   "id": "78f3ae36-85bb-43f1-88a3-f22324cbe312",
   "metadata": {},
   "outputs": [],
   "source": []
  }
 ],
 "metadata": {
  "kernelspec": {
   "display_name": "Python 3 (ipykernel)",
   "language": "python",
   "name": "python3"
  },
  "language_info": {
   "codemirror_mode": {
    "name": "ipython",
    "version": 3
   },
   "file_extension": ".py",
   "mimetype": "text/x-python",
   "name": "python",
   "nbconvert_exporter": "python",
   "pygments_lexer": "ipython3",
   "version": "3.12.2"
  }
 },
 "nbformat": 4,
 "nbformat_minor": 5
}
