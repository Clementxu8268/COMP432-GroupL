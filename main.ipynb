{
 "cells": [
  {
   "cell_type": "code",
   "id": "f11d5a80-df2b-4899-8c02-6a568997dcec",
   "metadata": {
    "ExecuteTime": {
     "end_time": "2024-10-30T23:26:28.921408Z",
     "start_time": "2024-10-30T23:26:28.909923Z"
    }
   },
   "source": [
    "# Basic library\n",
    "import os\n",
    "import numpy as np\n",
    "import matplotlib.pyplot as plt\n",
    "\n",
    "# PyTorch core library\n",
    "import torch\n",
    "import torch.nn as nn                 # Construct network layer\n",
    "import torch.optim as optim           # Optimizer\n",
    "import torch.nn.functional as F       # Activation function\n",
    "from torch.utils.data import DataLoader, Dataset   # Dataset loader\n",
    "\n",
    "# torchvision library\n",
    "import torchvision\n",
    "from torchvision import datasets, transforms, models  # Normal datasets, transform and training model\n",
    "\n",
    "# Optional library \n",
    "from sklearn.metrics import accuracy_score, classification_report, confusion_matrix  # Evaluation\n",
    "import seaborn as sns                            # Plot tool"
   ],
   "outputs": [],
   "execution_count": 3
  },
  {
   "cell_type": "code",
   "id": "78f3ae36-85bb-43f1-88a3-f22324cbe312",
   "metadata": {
    "ExecuteTime": {
     "end_time": "2024-10-30T23:26:30.986649Z",
     "start_time": "2024-10-30T23:26:30.982923Z"
    }
   },
   "source": [
    "import torch\n",
    "\n",
    "# Check your device whether supports CUDA\n",
    "cuda_available = torch.cuda.is_available()\n",
    "print(\"CUDA available:\", cuda_available)\n",
    "\n",
    "# If it supports CUDA, print CPU's information \n",
    "if cuda_available:\n",
    "    print(\"GPU device name:\", torch.cuda.get_device_name(0))\n",
    "    print(\"Number of GPUs available:\", torch.cuda.device_count())\n",
    "    print(\"Current CUDA device:\", torch.cuda.current_device())\n",
    "else:\n",
    "    print(\"CUDA is not supported on this system.\")\n"
   ],
   "outputs": [
    {
     "name": "stdout",
     "output_type": "stream",
     "text": [
      "CUDA available: False\n",
      "CUDA is not supported on this system.\n"
     ]
    }
   ],
   "execution_count": 4
  }
 ],
 "metadata": {
  "kernelspec": {
   "display_name": "Python 3 (ipykernel)",
   "language": "python",
   "name": "python3"
  },
  "language_info": {
   "codemirror_mode": {
    "name": "ipython",
    "version": 3
   },
   "file_extension": ".py",
   "mimetype": "text/x-python",
   "name": "python",
   "nbconvert_exporter": "python",
   "pygments_lexer": "ipython3",
   "version": "3.12.2"
  }
 },
 "nbformat": 4,
 "nbformat_minor": 5
}
